{
 "cells": [
  {
   "cell_type": "markdown",
   "id": "db42fa54-86b4-4a2a-9921-dbecf7c4bc2a",
   "metadata": {},
   "source": [
    "<h1 align='center'><b>Введение в нейронные сети<b></h1>"
   ]
  },
  {
   "cell_type": "markdown",
   "id": "f25be931-37fc-40d1-8719-2e6b7351dbe1",
   "metadata": {},
   "source": [
    "<h1 align='left'>Урок 2. Keras</h1>"
   ]
  },
  {
   "cell_type": "markdown",
   "id": "10942eb5-05fd-421d-b3db-5013ebdc57aa",
   "metadata": {},
   "source": [
    "<h2 align='center'>Домашняя работа</h2>"
   ]
  },
  {
   "cell_type": "markdown",
   "id": "44264b39-9307-4aae-9a6c-1124a41d9d09",
   "metadata": {},
   "source": [
    "Возьмите набор примеров fashion-MNIST\n",
    "\n",
    "1. Опишите - какой результат нейросети получен в зависимости от:<br>\n",
    "    a. числа нейронов в слое (для 2-х слойной сети),<br>\n",
    "    b. числа слоев (2, 3, 5, 10) при близких размерах сети (близкое число тренируемых параметров).<br>\n",
    "    c. фиксируйте для тренировочного и тестового набора метрики accuracy.<br>\n",
    "\n",
    "2. Проверьте работу разных оптимизаторов (SGD, Adam, RMSProp) для одной из моделей п.1. Фиксируйте для тренировочного и тестового набора метрики accuracy.\n",
    "\n",
    "3. Сделайте вывод - что помогло вам улучшить качество классификации в нейросети на тестовом наборе?\n",
    "\n",
    "4. Для одного варианта сети сформируйте матрицу ошибок по классам. Оцените качество модели по каждому классу отдельно (полнота, точность)."
   ]
  },
  {
   "cell_type": "code",
   "execution_count": 1,
   "id": "11713969-583c-47bb-9b5d-ae8979fb87a2",
   "metadata": {},
   "outputs": [],
   "source": [
    "# !pip install keras\n",
    "# !pip install python-mnist"
   ]
  },
  {
   "cell_type": "code",
   "execution_count": 2,
   "id": "a428ee11-2995-4621-82a4-6b57a868dbcf",
   "metadata": {},
   "outputs": [],
   "source": [
    "# keras.__version__"
   ]
  },
  {
   "cell_type": "code",
   "execution_count": 47,
   "id": "03bbca3b-dd9c-4052-820e-f017e4536af7",
   "metadata": {},
   "outputs": [],
   "source": [
    "import numpy as np\n",
    "import pandas as pd\n",
    "import matplotlib.pyplot as plt\n",
    "import seaborn as sn\n",
    "import tensorflow as tf\n",
    "import itertools\n",
    "import keras\n",
    "\n",
    "from keras.datasets import fashion_mnist\n",
    "from keras.utils.vis_utils import plot_model\n",
    "from keras.layers import Dense\n",
    "from keras.models import Sequential\n",
    "from keras.utils.np_utils import to_categorical\n",
    "from keras.optimizers import SGD\n",
    "from keras.optimizers import RMSprop\n",
    "from keras.optimizers import Adam\n",
    "from sklearn.metrics import confusion_matrix\n",
    "\n",
    "\n",
    "%matplotlib inline\n",
    "\n",
    "import warnings\n",
    "warnings.filterwarnings('ignore')"
   ]
  },
  {
   "cell_type": "code",
   "execution_count": 4,
   "id": "7d56f712-1dfa-463e-8422-a650a841e991",
   "metadata": {},
   "outputs": [],
   "source": [
    "tf.random.set_seed(42)"
   ]
  },
  {
   "cell_type": "code",
   "execution_count": 5,
   "id": "332fb076-ed3a-4137-af7d-28b0a24972b2",
   "metadata": {},
   "outputs": [
    {
     "name": "stdout",
     "output_type": "stream",
     "text": [
      "(60000, 28, 28) (10000, 28, 28)\n",
      "(60000,)\n"
     ]
    }
   ],
   "source": [
    "(X_train, y_train_labels), (X_test, y_test_labels) = fashion_mnist.load_data()\n",
    "print(X_train.shape, X_test.shape)\n",
    "print(y_train_labels.shape)"
   ]
  },
  {
   "cell_type": "code",
   "execution_count": 6,
   "id": "feef191c-2b01-4e30-840f-7e50a71c9b63",
   "metadata": {},
   "outputs": [
    {
     "name": "stdout",
     "output_type": "stream",
     "text": [
      "Label is 1\n"
     ]
    },
    {
     "data": {
      "image/png": "[encoded data removed]",
      "text/plain": [
       "<Figure size 432x288 with 1 Axes>"
      ]
     },
     "metadata": {
      "needs_background": "light"
     },
     "output_type": "display_data"
    }
   ],
   "source": [
    "ind = np.random.randint(0, X_train.shape[0])\n",
    "plt.imshow(X_train[ind], cmap='gray')\n",
    "print(f'Label is {y_train_labels[ind]}')"
   ]
  },
  {
   "cell_type": "markdown",
   "id": "bf6e8de1-582c-49e7-be52-6907dc4545d6",
   "metadata": {},
   "source": [
    "Набор из 60 000 полутоновых изображений 28х28 серого цвета 10 категорий моды, а также тестовый набор из 10 000 изображений.<br>\n",
    "Классовые метки:<br>\n",
    "   * 0 - футболка/клубка<br>\n",
    "   * 1 - Брюки<br>\n",
    "   * 2 - Пуловер<br>\n",
    "   * 3 - Платье<br>\n",
    "   * 4 - Пальто<br>\n",
    "   * 5 - Сандал<br>\n",
    "   * 6 - Рубашка<br>\n",
    "   * 7 - Кроссовок<br>\n",
    "   * 8 - Сумка<br>\n",
    "   * 9 - Ботинок"
   ]
  },
  {
   "cell_type": "markdown",
   "id": "431715e8-b169-4ab3-bde7-72f75a3eba4c",
   "metadata": {},
   "source": [
    "Конвертируем значения пикселей из вида от 0 до 255 в набор значений от 0 до 1."
   ]
  },
  {
   "cell_type": "code",
   "execution_count": 7,
   "id": "9ef22224-a41a-4e96-adaf-954c5b4f4a43",
   "metadata": {},
   "outputs": [
    {
     "data": {
      "text/plain": [
       "(0, 255)"
      ]
     },
     "execution_count": 7,
     "metadata": {},
     "output_type": "execute_result"
    }
   ],
   "source": [
    "X_train.min(), X_train.max()"
   ]
  },
  {
   "cell_type": "code",
   "execution_count": 8,
   "id": "df662ef9-6a7c-4716-b32b-8a6681427de5",
   "metadata": {},
   "outputs": [
    {
     "data": {
      "text/plain": [
       "(0.0, 1.0)"
      ]
     },
     "execution_count": 8,
     "metadata": {},
     "output_type": "execute_result"
    }
   ],
   "source": [
    "# Нормировка\n",
    "X_train = X_train / 255.0\n",
    "X_test = X_test / 255.0\n",
    "X_train.min(), X_train.max()"
   ]
  },
  {
   "cell_type": "code",
   "execution_count": 9,
   "id": "82286a30-36ad-496a-8351-f14b2c470bfe",
   "metadata": {},
   "outputs": [
    {
     "data": {
      "text/plain": [
       "((60000, 784), (10000, 784))"
      ]
     },
     "execution_count": 9,
     "metadata": {},
     "output_type": "execute_result"
    }
   ],
   "source": [
    "# Вытягивание признаков\n",
    "X_train = X_train.reshape((-1, 28 * 28))\n",
    "X_test = X_test.reshape((-1, 28 * 28))\n",
    "\n",
    "X_train.shape, X_test.shape"
   ]
  },
  {
   "cell_type": "markdown",
   "id": "89bcb5a8-8db0-4878-9142-656069f40780",
   "metadata": {},
   "source": [
    "Передача данных для обучения нейросети"
   ]
  },
  {
   "cell_type": "code",
   "execution_count": 10,
   "id": "008f32d8-eaa3-44e0-a559-0ccae9d4787e",
   "metadata": {},
   "outputs": [
    {
     "data": {
      "text/plain": [
       "array([9, 0, 0, 3, 0], dtype=uint8)"
      ]
     },
     "execution_count": 10,
     "metadata": {},
     "output_type": "execute_result"
    }
   ],
   "source": [
    "y_train_labels[:5]"
   ]
  },
  {
   "cell_type": "code",
   "execution_count": 11,
   "id": "94919b0a-6ed6-4d68-bc55-c0aa23f1450e",
   "metadata": {},
   "outputs": [
    {
     "data": {
      "text/plain": [
       "array([[0., 0., 0., 0., 0., 0., 0., 0., 0., 1.],\n",
       "       [1., 0., 0., 0., 0., 0., 0., 0., 0., 0.],\n",
       "       [1., 0., 0., 0., 0., 0., 0., 0., 0., 0.],\n",
       "       [0., 0., 0., 1., 0., 0., 0., 0., 0., 0.],\n",
       "       [1., 0., 0., 0., 0., 0., 0., 0., 0., 0.]], dtype=float32)"
      ]
     },
     "execution_count": 11,
     "metadata": {},
     "output_type": "execute_result"
    }
   ],
   "source": [
    "y_train = to_categorical(y_train_labels)\n",
    "y_test = to_categorical(y_test_labels)\n",
    "\n",
    "y_train[:5]"
   ]
  },
  {
   "cell_type": "markdown",
   "id": "32eff9c4-259e-40fb-8604-d62c06f1fc01",
   "metadata": {},
   "source": [
    "### Задание 1. Опишите - какой результат нейросети получен в зависимости от:\n",
    "    a. числа нейронов в слое (для 2-х слойной сети),\n",
    "    b. числа слоев (2, 3, 5, 10) при близких размерах сети (близкое число тренируемых параметров).\n",
    "    c. фиксируйте для тренировочного и тестового набора метрики accuracy."
   ]
  },
  {
   "cell_type": "markdown",
   "id": "75be186c-9dbf-4653-b613-68b918634e93",
   "metadata": {},
   "source": [
    "### a. Проверим качество в зависимости от числа нейронов в слое (для 2-х слойной сети)."
   ]
  },
  {
   "cell_type": "code",
   "execution_count": 12,
   "id": "7a2367f8-aacd-4001-b435-4c3dfc4f6627",
   "metadata": {},
   "outputs": [
    {
     "name": "stdout",
     "output_type": "stream",
     "text": [
      "Model: \"sequential\"\n",
      "_________________________________________________________________\n",
      " Layer (type)                Output Shape              Param #   \n",
      "=================================================================\n",
      " dense (Dense)               (None, 64)                50240     \n",
      "                                                                 \n",
      " dense_1 (Dense)             (None, 1)                 65        \n",
      "                                                                 \n",
      " dense_2 (Dense)             (None, 10)                20        \n",
      "                                                                 \n",
      "=================================================================\n",
      "Total params: 50,325\n",
      "Trainable params: 50,325\n",
      "Non-trainable params: 0\n",
      "_________________________________________________________________\n"
     ]
    },
    {
     "name": "stderr",
     "output_type": "stream",
     "text": [
      "2022-12-07 01:09:42.746588: I tensorflow/stream_executor/cuda/cuda_gpu_executor.cc:975] successful NUMA node read from SysFS had negative value (-1), but there must be at least one NUMA node, so returning NUMA node zero\n",
      "2022-12-07 01:09:42.782519: W tensorflow/stream_executor/platform/default/dso_loader.cc:64] Could not load dynamic library 'libcudnn.so.8'; dlerror: libcudnn.so.8: cannot open shared object file: No such file or directory\n",
      "2022-12-07 01:09:42.782538: W tensorflow/core/common_runtime/gpu/gpu_device.cc:1850] Cannot dlopen some GPU libraries. Please make sure the missing libraries mentioned above are installed properly if you would like to use GPU. Follow the guide at https://www.tensorflow.org/install/gpu for how to download and setup the required libraries for your platform.\n",
      "Skipping registering GPU devices...\n",
      "2022-12-07 01:09:42.783010: I tensorflow/core/platform/cpu_feature_guard.cc:193] This TensorFlow binary is optimized with oneAPI Deep Neural Network Library (oneDNN) to use the following CPU instructions in performance-critical operations:  AVX2 FMA\n",
      "To enable them in other operations, rebuild TensorFlow with the appropriate compiler flags.\n"
     ]
    },
    {
     "name": "stdout",
     "output_type": "stream",
     "text": [
      "Epoch 1/5\n",
      "938/938 [==============================] - 1s 1ms/step - loss: 2.0610 - accuracy: 0.1880 - val_loss: 1.9523 - val_accuracy: 0.2145\n",
      "Epoch 2/5\n",
      "938/938 [==============================] - 1s 1ms/step - loss: 1.8919 - accuracy: 0.2200 - val_loss: 1.8607 - val_accuracy: 0.2310\n",
      "Epoch 3/5\n",
      "938/938 [==============================] - 1s 1ms/step - loss: 1.8219 - accuracy: 0.2463 - val_loss: 1.8073 - val_accuracy: 0.2553\n",
      "Epoch 4/5\n",
      "938/938 [==============================] - 1s 1ms/step - loss: 1.7765 - accuracy: 0.2697 - val_loss: 1.7684 - val_accuracy: 0.2696\n",
      "Epoch 5/5\n",
      "938/938 [==============================] - 1s 1ms/step - loss: 1.7389 - accuracy: 0.2922 - val_loss: 1.7255 - val_accuracy: 0.3129\n",
      "938/938 [==============================] - 1s 789us/step - loss: 1.7148 - accuracy: 0.3185\n",
      "157/157 [==============================] - 0s 809us/step - loss: 1.7255 - accuracy: 0.3129\n",
      "Model: \"sequential_1\"\n",
      "_________________________________________________________________\n",
      " Layer (type)                Output Shape              Param #   \n",
      "=================================================================\n",
      " dense_3 (Dense)             (None, 64)                50240     \n",
      "                                                                 \n",
      " dense_4 (Dense)             (None, 2)                 130       \n",
      "                                                                 \n",
      " dense_5 (Dense)             (None, 10)                30        \n",
      "                                                                 \n",
      "=================================================================\n",
      "Total params: 50,400\n",
      "Trainable params: 50,400\n",
      "Non-trainable params: 0\n",
      "_________________________________________________________________\n",
      "Epoch 1/5\n",
      "938/938 [==============================] - 1s 1ms/step - loss: 1.9244 - accuracy: 0.2636 - val_loss: 1.6557 - val_accuracy: 0.3356\n",
      "Epoch 2/5\n",
      "938/938 [==============================] - 1s 1ms/step - loss: 1.5076 - accuracy: 0.3955 - val_loss: 1.4097 - val_accuracy: 0.4337\n",
      "Epoch 3/5\n",
      "938/938 [==============================] - 1s 1ms/step - loss: 1.3105 - accuracy: 0.4943 - val_loss: 1.2218 - val_accuracy: 0.5492\n",
      "Epoch 4/5\n",
      "938/938 [==============================] - 1s 1ms/step - loss: 1.1663 - accuracy: 0.5630 - val_loss: 1.1313 - val_accuracy: 0.5866\n",
      "Epoch 5/5\n",
      "938/938 [==============================] - 1s 1ms/step - loss: 1.0913 - accuracy: 0.5922 - val_loss: 1.0723 - val_accuracy: 0.5732\n",
      "938/938 [==============================] - 1s 787us/step - loss: 1.0627 - accuracy: 0.5795\n",
      "157/157 [==============================] - 0s 827us/step - loss: 1.0723 - accuracy: 0.5732\n",
      "Model: \"sequential_2\"\n",
      "_________________________________________________________________\n",
      " Layer (type)                Output Shape              Param #   \n",
      "=================================================================\n",
      " dense_6 (Dense)             (None, 64)                50240     \n",
      "                                                                 \n",
      " dense_7 (Dense)             (None, 4)                 260       \n",
      "                                                                 \n",
      " dense_8 (Dense)             (None, 10)                50        \n",
      "                                                                 \n",
      "=================================================================\n",
      "Total params: 50,550\n",
      "Trainable params: 50,550\n",
      "Non-trainable params: 0\n",
      "_________________________________________________________________\n",
      "Epoch 1/5\n",
      "938/938 [==============================] - 1s 1ms/step - loss: 1.6893 - accuracy: 0.4654 - val_loss: 1.3383 - val_accuracy: 0.5951\n",
      "Epoch 2/5\n",
      "938/938 [==============================] - 1s 1ms/step - loss: 1.0540 - accuracy: 0.6538 - val_loss: 0.8557 - val_accuracy: 0.7058\n",
      "Epoch 3/5\n",
      "938/938 [==============================] - 1s 1ms/step - loss: 0.7327 - accuracy: 0.7329 - val_loss: 0.7047 - val_accuracy: 0.7285\n",
      "Epoch 4/5\n",
      "938/938 [==============================] - 1s 1ms/step - loss: 0.6397 - accuracy: 0.7625 - val_loss: 0.6346 - val_accuracy: 0.7582\n",
      "Epoch 5/5\n",
      "938/938 [==============================] - 1s 1ms/step - loss: 0.6030 - accuracy: 0.7761 - val_loss: 0.6120 - val_accuracy: 0.7670\n",
      "938/938 [==============================] - 1s 796us/step - loss: 0.5893 - accuracy: 0.7777\n",
      "157/157 [==============================] - 0s 820us/step - loss: 0.6120 - accuracy: 0.7670\n",
      "Model: \"sequential_3\"\n",
      "_________________________________________________________________\n",
      " Layer (type)                Output Shape              Param #   \n",
      "=================================================================\n",
      " dense_9 (Dense)             (None, 64)                50240     \n",
      "                                                                 \n",
      " dense_10 (Dense)            (None, 8)                 520       \n",
      "                                                                 \n",
      " dense_11 (Dense)            (None, 10)                90        \n",
      "                                                                 \n",
      "=================================================================\n",
      "Total params: 50,850\n",
      "Trainable params: 50,850\n",
      "Non-trainable params: 0\n",
      "_________________________________________________________________\n",
      "Epoch 1/5\n",
      "938/938 [==============================] - 1s 1ms/step - loss: 1.4811 - accuracy: 0.4778 - val_loss: 0.9400 - val_accuracy: 0.6574\n",
      "Epoch 2/5\n",
      "938/938 [==============================] - 1s 1ms/step - loss: 0.7720 - accuracy: 0.7240 - val_loss: 0.6874 - val_accuracy: 0.7561\n",
      "Epoch 3/5\n",
      "938/938 [==============================] - 1s 1ms/step - loss: 0.6245 - accuracy: 0.7818 - val_loss: 0.6396 - val_accuracy: 0.7704\n",
      "Epoch 4/5\n",
      "938/938 [==============================] - 1s 1ms/step - loss: 0.5639 - accuracy: 0.8050 - val_loss: 0.5795 - val_accuracy: 0.7933\n",
      "Epoch 5/5\n",
      "938/938 [==============================] - 1s 1ms/step - loss: 0.5290 - accuracy: 0.8154 - val_loss: 0.5589 - val_accuracy: 0.7991\n",
      "938/938 [==============================] - 1s 828us/step - loss: 0.5310 - accuracy: 0.8081\n",
      "157/157 [==============================] - 0s 830us/step - loss: 0.5589 - accuracy: 0.7991\n",
      "Model: \"sequential_4\"\n",
      "_________________________________________________________________\n",
      " Layer (type)                Output Shape              Param #   \n",
      "=================================================================\n",
      " dense_12 (Dense)            (None, 64)                50240     \n",
      "                                                                 \n",
      " dense_13 (Dense)            (None, 16)                1040      \n",
      "                                                                 \n",
      " dense_14 (Dense)            (None, 10)                170       \n",
      "                                                                 \n",
      "=================================================================\n",
      "Total params: 51,450\n",
      "Trainable params: 51,450\n",
      "Non-trainable params: 0\n",
      "_________________________________________________________________\n",
      "Epoch 1/5\n",
      "938/938 [==============================] - 1s 1ms/step - loss: 1.1152 - accuracy: 0.6319 - val_loss: 0.7222 - val_accuracy: 0.7327\n",
      "Epoch 2/5\n",
      "938/938 [==============================] - 1s 1ms/step - loss: 0.5967 - accuracy: 0.7944 - val_loss: 0.5889 - val_accuracy: 0.7929\n",
      "Epoch 3/5\n",
      "938/938 [==============================] - 1s 1ms/step - loss: 0.5298 - accuracy: 0.8164 - val_loss: 0.5483 - val_accuracy: 0.7979\n",
      "Epoch 4/5\n",
      "938/938 [==============================] - 1s 1ms/step - loss: 0.4986 - accuracy: 0.8268 - val_loss: 0.5234 - val_accuracy: 0.8135\n",
      "Epoch 5/5\n",
      "938/938 [==============================] - 1s 1ms/step - loss: 0.4788 - accuracy: 0.8323 - val_loss: 0.5263 - val_accuracy: 0.8088\n",
      "938/938 [==============================] - 1s 770us/step - loss: 0.4910 - accuracy: 0.8236\n",
      "157/157 [==============================] - 0s 825us/step - loss: 0.5263 - accuracy: 0.8088\n",
      "Model: \"sequential_5\"\n",
      "_________________________________________________________________\n",
      " Layer (type)                Output Shape              Param #   \n",
      "=================================================================\n",
      " dense_15 (Dense)            (None, 64)                50240     \n",
      "                                                                 \n",
      " dense_16 (Dense)            (None, 32)                2080      \n",
      "                                                                 \n",
      " dense_17 (Dense)            (None, 10)                330       \n",
      "                                                                 \n",
      "=================================================================\n",
      "Total params: 52,650\n",
      "Trainable params: 52,650\n",
      "Non-trainable params: 0\n",
      "_________________________________________________________________\n",
      "Epoch 1/5\n",
      "938/938 [==============================] - 1s 1ms/step - loss: 0.9432 - accuracy: 0.6945 - val_loss: 0.6943 - val_accuracy: 0.7429\n",
      "Epoch 2/5\n",
      "938/938 [==============================] - 1s 1ms/step - loss: 0.5764 - accuracy: 0.8044 - val_loss: 0.5870 - val_accuracy: 0.7951\n",
      "Epoch 3/5\n",
      "938/938 [==============================] - 1s 1ms/step - loss: 0.5088 - accuracy: 0.8249 - val_loss: 0.5158 - val_accuracy: 0.8159\n",
      "Epoch 4/5\n",
      "938/938 [==============================] - 1s 1ms/step - loss: 0.4765 - accuracy: 0.8340 - val_loss: 0.4902 - val_accuracy: 0.8272\n",
      "Epoch 5/5\n",
      "938/938 [==============================] - 1s 1ms/step - loss: 0.4567 - accuracy: 0.8401 - val_loss: 0.5252 - val_accuracy: 0.8100\n",
      "938/938 [==============================] - 1s 777us/step - loss: 0.4925 - accuracy: 0.8185\n",
      "157/157 [==============================] - 0s 908us/step - loss: 0.5252 - accuracy: 0.8100\n",
      "Model: \"sequential_6\"\n",
      "_________________________________________________________________\n",
      " Layer (type)                Output Shape              Param #   \n",
      "=================================================================\n",
      " dense_18 (Dense)            (None, 64)                50240     \n",
      "                                                                 \n",
      " dense_19 (Dense)            (None, 64)                4160      \n",
      "                                                                 \n",
      " dense_20 (Dense)            (None, 10)                650       \n",
      "                                                                 \n",
      "=================================================================\n",
      "Total params: 55,050\n",
      "Trainable params: 55,050\n",
      "Non-trainable params: 0\n",
      "_________________________________________________________________\n",
      "Epoch 1/5\n",
      "938/938 [==============================] - 1s 1ms/step - loss: 0.9232 - accuracy: 0.7052 - val_loss: 0.6769 - val_accuracy: 0.7412\n",
      "Epoch 2/5\n",
      "938/938 [==============================] - 1s 1ms/step - loss: 0.5656 - accuracy: 0.8050 - val_loss: 0.5812 - val_accuracy: 0.7988\n",
      "Epoch 3/5\n",
      "938/938 [==============================] - 1s 1ms/step - loss: 0.5039 - accuracy: 0.8246 - val_loss: 0.5069 - val_accuracy: 0.8206\n",
      "Epoch 4/5\n",
      "938/938 [==============================] - 1s 1ms/step - loss: 0.4727 - accuracy: 0.8364 - val_loss: 0.4893 - val_accuracy: 0.8252\n",
      "Epoch 5/5\n",
      "938/938 [==============================] - 1s 1ms/step - loss: 0.4525 - accuracy: 0.8406 - val_loss: 0.5109 - val_accuracy: 0.8141\n",
      "938/938 [==============================] - 1s 811us/step - loss: 0.4774 - accuracy: 0.8266\n",
      "157/157 [==============================] - 0s 844us/step - loss: 0.5109 - accuracy: 0.8141\n",
      "Model: \"sequential_7\"\n",
      "_________________________________________________________________\n",
      " Layer (type)                Output Shape              Param #   \n",
      "=================================================================\n",
      " dense_21 (Dense)            (None, 64)                50240     \n",
      "                                                                 \n",
      " dense_22 (Dense)            (None, 128)               8320      \n",
      "                                                                 \n",
      " dense_23 (Dense)            (None, 10)                1290      \n",
      "                                                                 \n",
      "=================================================================\n",
      "Total params: 59,850\n",
      "Trainable params: 59,850\n",
      "Non-trainable params: 0\n",
      "_________________________________________________________________\n",
      "Epoch 1/5\n",
      "938/938 [==============================] - 2s 1ms/step - loss: 0.9718 - accuracy: 0.6838 - val_loss: 0.7030 - val_accuracy: 0.7346\n",
      "Epoch 2/5\n",
      "938/938 [==============================] - 1s 1ms/step - loss: 0.5921 - accuracy: 0.7953 - val_loss: 0.5888 - val_accuracy: 0.7898\n",
      "Epoch 3/5\n",
      "938/938 [==============================] - 1s 1ms/step - loss: 0.5175 - accuracy: 0.8207 - val_loss: 0.5195 - val_accuracy: 0.8164\n",
      "Epoch 4/5\n",
      "938/938 [==============================] - 1s 1ms/step - loss: 0.4808 - accuracy: 0.8331 - val_loss: 0.4980 - val_accuracy: 0.8217\n",
      "Epoch 5/5\n",
      "938/938 [==============================] - 1s 1ms/step - loss: 0.4580 - accuracy: 0.8394 - val_loss: 0.5173 - val_accuracy: 0.8117\n",
      "938/938 [==============================] - 1s 809us/step - loss: 0.4814 - accuracy: 0.8244\n",
      "157/157 [==============================] - 0s 810us/step - loss: 0.5173 - accuracy: 0.8117\n",
      "Model: \"sequential_8\"\n",
      "_________________________________________________________________\n",
      " Layer (type)                Output Shape              Param #   \n",
      "=================================================================\n",
      " dense_24 (Dense)            (None, 64)                50240     \n",
      "                                                                 \n",
      " dense_25 (Dense)            (None, 256)               16640     \n",
      "                                                                 \n",
      " dense_26 (Dense)            (None, 10)                2570      \n",
      "                                                                 \n",
      "=================================================================\n",
      "Total params: 69,450\n",
      "Trainable params: 69,450\n",
      "Non-trainable params: 0\n",
      "_________________________________________________________________\n",
      "Epoch 1/5\n",
      "938/938 [==============================] - 2s 1ms/step - loss: 0.9936 - accuracy: 0.6823 - val_loss: 0.7069 - val_accuracy: 0.7347\n",
      "Epoch 2/5\n",
      "938/938 [==============================] - 1s 1ms/step - loss: 0.5921 - accuracy: 0.7987 - val_loss: 0.5973 - val_accuracy: 0.7930\n",
      "Epoch 3/5\n",
      "938/938 [==============================] - 1s 1ms/step - loss: 0.5202 - accuracy: 0.8201 - val_loss: 0.5222 - val_accuracy: 0.8161\n",
      "Epoch 4/5\n",
      "938/938 [==============================] - 1s 1ms/step - loss: 0.4846 - accuracy: 0.8310 - val_loss: 0.5024 - val_accuracy: 0.8218\n",
      "Epoch 5/5\n",
      "938/938 [==============================] - 1s 1ms/step - loss: 0.4619 - accuracy: 0.8378 - val_loss: 0.5170 - val_accuracy: 0.8120\n",
      "938/938 [==============================] - 1s 818us/step - loss: 0.4824 - accuracy: 0.8249\n",
      "157/157 [==============================] - 0s 866us/step - loss: 0.5170 - accuracy: 0.8120\n",
      "Model: \"sequential_9\"\n",
      "_________________________________________________________________\n",
      " Layer (type)                Output Shape              Param #   \n",
      "=================================================================\n",
      " dense_27 (Dense)            (None, 64)                50240     \n",
      "                                                                 \n",
      " dense_28 (Dense)            (None, 512)               33280     \n",
      "                                                                 \n",
      " dense_29 (Dense)            (None, 10)                5130      \n",
      "                                                                 \n",
      "=================================================================\n",
      "Total params: 88,650\n",
      "Trainable params: 88,650\n",
      "Non-trainable params: 0\n",
      "_________________________________________________________________\n",
      "Epoch 1/5\n",
      "938/938 [==============================] - 2s 2ms/step - loss: 1.0218 - accuracy: 0.6641 - val_loss: 0.7188 - val_accuracy: 0.7262\n",
      "Epoch 2/5\n",
      "938/938 [==============================] - 1s 1ms/step - loss: 0.5958 - accuracy: 0.7944 - val_loss: 0.5943 - val_accuracy: 0.7889\n",
      "Epoch 3/5\n",
      "938/938 [==============================] - 1s 1ms/step - loss: 0.5212 - accuracy: 0.8189 - val_loss: 0.5245 - val_accuracy: 0.8152\n",
      "Epoch 4/5\n",
      "938/938 [==============================] - 1s 1ms/step - loss: 0.4852 - accuracy: 0.8315 - val_loss: 0.5032 - val_accuracy: 0.8211\n",
      "Epoch 5/5\n",
      "938/938 [==============================] - 1s 1ms/step - loss: 0.4632 - accuracy: 0.8371 - val_loss: 0.5197 - val_accuracy: 0.8100\n",
      "938/938 [==============================] - 1s 877us/step - loss: 0.4857 - accuracy: 0.8237\n",
      "157/157 [==============================] - 0s 921us/step - loss: 0.5197 - accuracy: 0.8100\n",
      "CPU times: user 1min 59s, sys: 9.31 s, total: 2min 9s\n",
      "Wall time: 1min 12s\n"
     ]
    },
    {
     "data": {
      "text/html": [
       "<div>\n",
       "<style scoped>\n",
       "    .dataframe tbody tr th:only-of-type {\n",
       "        vertical-align: middle;\n",
       "    }\n",
       "\n",
       "    .dataframe tbody tr th {\n",
       "        vertical-align: top;\n",
       "    }\n",
       "\n",
       "    .dataframe thead th {\n",
       "        text-align: right;\n",
       "    }\n",
       "</style>\n",
       "<table border=\"1\" class=\"dataframe\">\n",
       "  <thead>\n",
       "    <tr style=\"text-align: right;\">\n",
       "      <th></th>\n",
       "      <th>n_num</th>\n",
       "      <th>train_loss</th>\n",
       "      <th>test_loss</th>\n",
       "      <th>train_metric</th>\n",
       "      <th>test_metric</th>\n",
       "    </tr>\n",
       "  </thead>\n",
       "  <tbody>\n",
       "    <tr>\n",
       "      <th>6</th>\n",
       "      <td>64</td>\n",
       "      <td>0.477382</td>\n",
       "      <td>0.510851</td>\n",
       "      <td>0.826550</td>\n",
       "      <td>0.8141</td>\n",
       "    </tr>\n",
       "    <tr>\n",
       "      <th>8</th>\n",
       "      <td>256</td>\n",
       "      <td>0.482432</td>\n",
       "      <td>0.517040</td>\n",
       "      <td>0.824933</td>\n",
       "      <td>0.8120</td>\n",
       "    </tr>\n",
       "    <tr>\n",
       "      <th>7</th>\n",
       "      <td>128</td>\n",
       "      <td>0.481423</td>\n",
       "      <td>0.517337</td>\n",
       "      <td>0.824433</td>\n",
       "      <td>0.8117</td>\n",
       "    </tr>\n",
       "    <tr>\n",
       "      <th>5</th>\n",
       "      <td>32</td>\n",
       "      <td>0.492494</td>\n",
       "      <td>0.525194</td>\n",
       "      <td>0.818517</td>\n",
       "      <td>0.8100</td>\n",
       "    </tr>\n",
       "    <tr>\n",
       "      <th>9</th>\n",
       "      <td>512</td>\n",
       "      <td>0.485653</td>\n",
       "      <td>0.519744</td>\n",
       "      <td>0.823700</td>\n",
       "      <td>0.8100</td>\n",
       "    </tr>\n",
       "    <tr>\n",
       "      <th>4</th>\n",
       "      <td>16</td>\n",
       "      <td>0.490972</td>\n",
       "      <td>0.526251</td>\n",
       "      <td>0.823567</td>\n",
       "      <td>0.8088</td>\n",
       "    </tr>\n",
       "    <tr>\n",
       "      <th>3</th>\n",
       "      <td>8</td>\n",
       "      <td>0.531048</td>\n",
       "      <td>0.558927</td>\n",
       "      <td>0.808083</td>\n",
       "      <td>0.7991</td>\n",
       "    </tr>\n",
       "    <tr>\n",
       "      <th>2</th>\n",
       "      <td>4</td>\n",
       "      <td>0.589339</td>\n",
       "      <td>0.612015</td>\n",
       "      <td>0.777717</td>\n",
       "      <td>0.7670</td>\n",
       "    </tr>\n",
       "    <tr>\n",
       "      <th>1</th>\n",
       "      <td>2</td>\n",
       "      <td>1.062675</td>\n",
       "      <td>1.072344</td>\n",
       "      <td>0.579450</td>\n",
       "      <td>0.5732</td>\n",
       "    </tr>\n",
       "    <tr>\n",
       "      <th>0</th>\n",
       "      <td>1</td>\n",
       "      <td>1.714827</td>\n",
       "      <td>1.725547</td>\n",
       "      <td>0.318500</td>\n",
       "      <td>0.3129</td>\n",
       "    </tr>\n",
       "  </tbody>\n",
       "</table>\n",
       "</div>"
      ],
      "text/plain": [
       "   n_num  train_loss  test_loss  train_metric  test_metric\n",
       "6     64    0.477382   0.510851      0.826550       0.8141\n",
       "8    256    0.482432   0.517040      0.824933       0.8120\n",
       "7    128    0.481423   0.517337      0.824433       0.8117\n",
       "5     32    0.492494   0.525194      0.818517       0.8100\n",
       "9    512    0.485653   0.519744      0.823700       0.8100\n",
       "4     16    0.490972   0.526251      0.823567       0.8088\n",
       "3      8    0.531048   0.558927      0.808083       0.7991\n",
       "2      4    0.589339   0.612015      0.777717       0.7670\n",
       "1      2    1.062675   1.072344      0.579450       0.5732\n",
       "0      1    1.714827   1.725547      0.318500       0.3129"
      ]
     },
     "execution_count": 12,
     "metadata": {},
     "output_type": "execute_result"
    }
   ],
   "source": [
    "%%time\n",
    "\n",
    "results_num = pd.DataFrame()\n",
    "n_nums = [] # число нейронов скрытых слоев\n",
    "train_losses = [] # ошибка на тренировочной выборке\n",
    "test_losses = [] # ошибка на тестовой выборке\n",
    "train_metrics = [] # accuracy на тренировочной выборке\n",
    "test_metrics = [] # accuracy на тестовой выборке\n",
    "\n",
    "\n",
    "for n_num in list(map(lambda x: 2**x, range(0,10))):\n",
    "    \n",
    "    n_nums.append(n_num)\n",
    "    \n",
    "    model = Sequential([\n",
    "        Dense(64, input_shape=(28 * 28,), activation='relu'),\n",
    "        Dense(n_num, activation='relu'),\n",
    "        Dense(10, activation='sigmoid')\n",
    "    ])\n",
    "    \n",
    "    model.summary()\n",
    "    \n",
    "    # Компиляция модели\n",
    "    model.compile(loss='categorical_crossentropy', optimizer='SGD', metrics=['accuracy'])\n",
    "    \n",
    "    history = model.fit(X_train, y_train,\n",
    "                       epochs=5,\n",
    "                       batch_size=64,\n",
    "                       verbose=1,\n",
    "                       validation_data=(X_test, y_test)\n",
    "                       )\n",
    "    \n",
    "    train_acc = history.history['accuracy']\n",
    "    val_acc = history.history['val_accuracy']\n",
    "    \n",
    "    train_loss, train_metric = model.evaluate(X_train, y_train, batch_size=64)\n",
    "    train_losses.append(train_loss)\n",
    "    train_metrics.append(train_metric)\n",
    "    \n",
    "    test_loss, test_metric = model.evaluate(X_test, y_test, batch_size=64)\n",
    "    test_losses.append(test_loss)\n",
    "    test_metrics.append(test_metric)\n",
    "    \n",
    "    \n",
    "results_num['n_num'] = n_nums\n",
    "results_num['train_loss'] = train_losses\n",
    "results_num['test_loss'] = test_losses\n",
    "results_num['train_metric'] = train_metrics\n",
    "results_num['test_metric'] = test_metrics\n",
    "results_num.sort_values(by='test_metric', ascending=False)"
   ]
  },
  {
   "cell_type": "code",
   "execution_count": 13,
   "id": "2f84263a-6e10-4bd9-8965-fc8f11bc131b",
   "metadata": {},
   "outputs": [
    {
     "data": {
      "image/png": "[encoded data removed]",
      "text/plain": [
       "<Figure size 1152x360 with 1 Axes>"
      ]
     },
     "metadata": {
      "needs_background": "light"
     },
     "output_type": "display_data"
    },
    {
     "data": {
      "image/png": "[encoded data removed]",
      "text/plain": [
       "<Figure size 1152x360 with 1 Axes>"
      ]
     },
     "metadata": {
      "needs_background": "light"
     },
     "output_type": "display_data"
    }
   ],
   "source": [
    "# Демонстрация полученных результатов\n",
    "# Диаграмма точности в зависимости от обучения\n",
    "\n",
    "plt.figure(figsize=(16,5))\n",
    "plt.plot(results_num['n_num'], results_num['train_loss'], label='train')\n",
    "plt.plot(results_num['n_num'], results_num['test_loss'], label='test')\n",
    "plt.xlabel('Обучение')\n",
    "plt.ylabel('Ошибка')\n",
    "plt.legend()\n",
    "plt.show()\n",
    "\n",
    "plt.figure(figsize=(16,5))\n",
    "plt.plot(results_num['n_num'], results_num['train_metric'], label='train')\n",
    "plt.plot(results_num['n_num'], results_num['test_metric'], label='test')\n",
    "plt.xlabel('Число нейронов скрытого слоя')\n",
    "plt.ylabel('Accuracy')\n",
    "plt.legend()\n",
    "plt.show()"
   ]
  },
  {
   "cell_type": "markdown",
   "id": "36d5b921-f871-4182-bc5a-3adbda3629bc",
   "metadata": {},
   "source": [
    "Лучшее качество на тесте получилось при 128 нейронах.<br>\n",
    "В общем тенденция такая: сначала, при увеличении числа нейронов скрытого слоя, качество росло, затем, начиная с некоторого количества (примерно 16), скорость роста сильно снизилась и качество почти вышло на констатное значение."
   ]
  },
  {
   "cell_type": "markdown",
   "id": "1a34c246-af5c-436d-86d9-aedd9d83fd0b",
   "metadata": {},
   "source": [
    "### b. Проверим качество в зависимости от числа слоев (2, 3, 5, 10) при близких размерах сети (близкое число тренируемых параметров)"
   ]
  },
  {
   "cell_type": "code",
   "execution_count": 14,
   "id": "856cf90f-0181-47a8-ac7d-63726f452c90",
   "metadata": {},
   "outputs": [
    {
     "name": "stdout",
     "output_type": "stream",
     "text": [
      "Model: \"sequential_10\"\n",
      "_________________________________________________________________\n",
      " Layer (type)                Output Shape              Param #   \n",
      "=================================================================\n",
      " dense_30 (Dense)            (None, 64)                50240     \n",
      "                                                                 \n",
      " dense_31 (Dense)            (None, 128)               8320      \n",
      "                                                                 \n",
      " dense_32 (Dense)            (None, 10)                1290      \n",
      "                                                                 \n",
      "=================================================================\n",
      "Total params: 59,850\n",
      "Trainable params: 59,850\n",
      "Non-trainable params: 0\n",
      "_________________________________________________________________\n",
      "Epoch 1/5\n",
      "938/938 [==============================] - 1s 1ms/step - loss: 1.0056 - accuracy: 0.6785 - val_loss: 0.7079 - val_accuracy: 0.7289\n",
      "Epoch 2/5\n",
      "938/938 [==============================] - 1s 1ms/step - loss: 0.5954 - accuracy: 0.7951 - val_loss: 0.5983 - val_accuracy: 0.7892\n",
      "Epoch 3/5\n",
      "938/938 [==============================] - 1s 1ms/step - loss: 0.5233 - accuracy: 0.8190 - val_loss: 0.5303 - val_accuracy: 0.8119\n",
      "Epoch 4/5\n",
      "938/938 [==============================] - 1s 1ms/step - loss: 0.4877 - accuracy: 0.8303 - val_loss: 0.5038 - val_accuracy: 0.8206\n",
      "Epoch 5/5\n",
      "938/938 [==============================] - 1s 1ms/step - loss: 0.4651 - accuracy: 0.8372 - val_loss: 0.5335 - val_accuracy: 0.8045\n",
      "938/938 [==============================] - 1s 818us/step - loss: 0.4994 - accuracy: 0.8171\n",
      "157/157 [==============================] - 0s 854us/step - loss: 0.5335 - accuracy: 0.8045\n",
      "Model: \"sequential_11\"\n",
      "_________________________________________________________________\n",
      " Layer (type)                Output Shape              Param #   \n",
      "=================================================================\n",
      " dense_33 (Dense)            (None, 64)                50240     \n",
      "                                                                 \n",
      " dense_34 (Dense)            (None, 67)                4355      \n",
      "                                                                 \n",
      " dense_35 (Dense)            (None, 67)                4556      \n",
      "                                                                 \n",
      " dense_36 (Dense)            (None, 10)                680       \n",
      "                                                                 \n",
      "=================================================================\n",
      "Total params: 59,831\n",
      "Trainable params: 59,831\n",
      "Non-trainable params: 0\n",
      "_________________________________________________________________\n",
      "Epoch 1/5\n",
      "938/938 [==============================] - 1s 1ms/step - loss: 0.9345 - accuracy: 0.6863 - val_loss: 0.6833 - val_accuracy: 0.7374\n",
      "Epoch 2/5\n",
      "938/938 [==============================] - 1s 1ms/step - loss: 0.5604 - accuracy: 0.8041 - val_loss: 0.5925 - val_accuracy: 0.7895\n",
      "Epoch 3/5\n",
      "938/938 [==============================] - 1s 1ms/step - loss: 0.4959 - accuracy: 0.8260 - val_loss: 0.5051 - val_accuracy: 0.8187\n",
      "Epoch 4/5\n",
      "938/938 [==============================] - 1s 1ms/step - loss: 0.4648 - accuracy: 0.8368 - val_loss: 0.4842 - val_accuracy: 0.8258\n",
      "Epoch 5/5\n",
      "938/938 [==============================] - 1s 1ms/step - loss: 0.4448 - accuracy: 0.8434 - val_loss: 0.5146 - val_accuracy: 0.8136\n",
      "938/938 [==============================] - 1s 835us/step - loss: 0.4772 - accuracy: 0.8257\n",
      "157/157 [==============================] - 0s 866us/step - loss: 0.5146 - accuracy: 0.8136\n",
      "Model: \"sequential_12\"\n",
      "_________________________________________________________________\n",
      " Layer (type)                Output Shape              Param #   \n",
      "=================================================================\n",
      " dense_37 (Dense)            (None, 64)                50240     \n",
      "                                                                 \n",
      " dense_38 (Dense)            (None, 45)                2925      \n",
      "                                                                 \n",
      " dense_39 (Dense)            (None, 45)                2070      \n",
      "                                                                 \n",
      " dense_40 (Dense)            (None, 45)                2070      \n",
      "                                                                 \n",
      " dense_41 (Dense)            (None, 45)                2070      \n",
      "                                                                 \n",
      " dense_42 (Dense)            (None, 10)                460       \n",
      "                                                                 \n",
      "=================================================================\n",
      "Total params: 59,835\n",
      "Trainable params: 59,835\n",
      "Non-trainable params: 0\n",
      "_________________________________________________________________\n",
      "Epoch 1/5\n",
      "938/938 [==============================] - 2s 1ms/step - loss: 1.3204 - accuracy: 0.5555 - val_loss: 0.9092 - val_accuracy: 0.6977\n",
      "Epoch 2/5\n",
      "938/938 [==============================] - 1s 1ms/step - loss: 0.5960 - accuracy: 0.7889 - val_loss: 0.6570 - val_accuracy: 0.7692\n",
      "Epoch 3/5\n",
      "938/938 [==============================] - 1s 1ms/step - loss: 0.5116 - accuracy: 0.8196 - val_loss: 0.5115 - val_accuracy: 0.8217\n",
      "Epoch 4/5\n",
      "938/938 [==============================] - 1s 1ms/step - loss: 0.4703 - accuracy: 0.8343 - val_loss: 0.4919 - val_accuracy: 0.8263\n",
      "Epoch 5/5\n",
      "938/938 [==============================] - 1s 1ms/step - loss: 0.4434 - accuracy: 0.8442 - val_loss: 0.4951 - val_accuracy: 0.8203\n",
      "938/938 [==============================] - 1s 836us/step - loss: 0.4567 - accuracy: 0.8361\n",
      "157/157 [==============================] - 0s 927us/step - loss: 0.4951 - accuracy: 0.8203\n",
      "Model: \"sequential_13\"\n",
      "_________________________________________________________________\n",
      " Layer (type)                Output Shape              Param #   \n",
      "=================================================================\n",
      " dense_43 (Dense)            (None, 64)                50240     \n",
      "                                                                 \n",
      " dense_44 (Dense)            (None, 30)                1950      \n",
      "                                                                 \n",
      " dense_45 (Dense)            (None, 30)                930       \n",
      "                                                                 \n",
      " dense_46 (Dense)            (None, 30)                930       \n",
      "                                                                 \n",
      " dense_47 (Dense)            (None, 30)                930       \n",
      "                                                                 \n",
      " dense_48 (Dense)            (None, 30)                930       \n",
      "                                                                 \n",
      " dense_49 (Dense)            (None, 30)                930       \n",
      "                                                                 \n",
      " dense_50 (Dense)            (None, 30)                930       \n",
      "                                                                 \n",
      " dense_51 (Dense)            (None, 30)                930       \n",
      "                                                                 \n",
      " dense_52 (Dense)            (None, 30)                930       \n",
      "                                                                 \n",
      " dense_53 (Dense)            (None, 10)                310       \n",
      "                                                                 \n",
      "=================================================================\n",
      "Total params: 59,940\n",
      "Trainable params: 59,940\n",
      "Non-trainable params: 0\n",
      "_________________________________________________________________\n",
      "Epoch 1/5\n",
      "938/938 [==============================] - 2s 2ms/step - loss: 1.5741 - accuracy: 0.3881 - val_loss: 0.9798 - val_accuracy: 0.6173\n",
      "Epoch 2/5\n",
      "938/938 [==============================] - 1s 1ms/step - loss: 0.8012 - accuracy: 0.6920 - val_loss: 1.3034 - val_accuracy: 0.5053\n",
      "Epoch 3/5\n",
      "938/938 [==============================] - 1s 1ms/step - loss: 0.6279 - accuracy: 0.7703 - val_loss: 0.5866 - val_accuracy: 0.7889\n",
      "Epoch 4/5\n",
      "938/938 [==============================] - 1s 1ms/step - loss: 0.5387 - accuracy: 0.8055 - val_loss: 0.6080 - val_accuracy: 0.7880\n",
      "Epoch 5/5\n",
      "938/938 [==============================] - 1s 1ms/step - loss: 0.4855 - accuracy: 0.8272 - val_loss: 0.8229 - val_accuracy: 0.7417\n",
      "938/938 [==============================] - 1s 903us/step - loss: 0.7882 - accuracy: 0.7477\n",
      "157/157 [==============================] - 0s 926us/step - loss: 0.8229 - accuracy: 0.7417\n",
      "CPU times: user 52 s, sys: 3.73 s, total: 55.7 s\n",
      "Wall time: 31.1 s\n"
     ]
    },
    {
     "data": {
      "text/html": [
       "<div>\n",
       "<style scoped>\n",
       "    .dataframe tbody tr th:only-of-type {\n",
       "        vertical-align: middle;\n",
       "    }\n",
       "\n",
       "    .dataframe tbody tr th {\n",
       "        vertical-align: top;\n",
       "    }\n",
       "\n",
       "    .dataframe thead th {\n",
       "        text-align: right;\n",
       "    }\n",
       "</style>\n",
       "<table border=\"1\" class=\"dataframe\">\n",
       "  <thead>\n",
       "    <tr style=\"text-align: right;\">\n",
       "      <th></th>\n",
       "      <th>n_layer</th>\n",
       "      <th>n_num</th>\n",
       "      <th>n_par</th>\n",
       "      <th>train_loss</th>\n",
       "      <th>test_loss</th>\n",
       "      <th>train_metric</th>\n",
       "      <th>test_metric</th>\n",
       "    </tr>\n",
       "  </thead>\n",
       "  <tbody>\n",
       "    <tr>\n",
       "      <th>2</th>\n",
       "      <td>5</td>\n",
       "      <td>45</td>\n",
       "      <td>59835</td>\n",
       "      <td>0.456654</td>\n",
       "      <td>0.495092</td>\n",
       "      <td>0.836117</td>\n",
       "      <td>0.8203</td>\n",
       "    </tr>\n",
       "    <tr>\n",
       "      <th>1</th>\n",
       "      <td>3</td>\n",
       "      <td>67</td>\n",
       "      <td>59831</td>\n",
       "      <td>0.477226</td>\n",
       "      <td>0.514645</td>\n",
       "      <td>0.825700</td>\n",
       "      <td>0.8136</td>\n",
       "    </tr>\n",
       "    <tr>\n",
       "      <th>0</th>\n",
       "      <td>2</td>\n",
       "      <td>128</td>\n",
       "      <td>59850</td>\n",
       "      <td>0.499366</td>\n",
       "      <td>0.533453</td>\n",
       "      <td>0.817150</td>\n",
       "      <td>0.8045</td>\n",
       "    </tr>\n",
       "    <tr>\n",
       "      <th>3</th>\n",
       "      <td>10</td>\n",
       "      <td>30</td>\n",
       "      <td>59940</td>\n",
       "      <td>0.788159</td>\n",
       "      <td>0.822852</td>\n",
       "      <td>0.747700</td>\n",
       "      <td>0.7417</td>\n",
       "    </tr>\n",
       "  </tbody>\n",
       "</table>\n",
       "</div>"
      ],
      "text/plain": [
       "   n_layer  n_num  n_par  train_loss  test_loss  train_metric  test_metric\n",
       "2        5     45  59835    0.456654   0.495092      0.836117       0.8203\n",
       "1        3     67  59831    0.477226   0.514645      0.825700       0.8136\n",
       "0        2    128  59850    0.499366   0.533453      0.817150       0.8045\n",
       "3       10     30  59940    0.788159   0.822852      0.747700       0.7417"
      ]
     },
     "execution_count": 14,
     "metadata": {},
     "output_type": "execute_result"
    }
   ],
   "source": [
    "%%time\n",
    "results_layers = pd.DataFrame()\n",
    "n_nums = [] # число нейронов скрытых слоев\n",
    "n_layers = [] # число скрытых слоев\n",
    "n_pars = [] # число тренируемых параметров\n",
    "train_losses = [] # ошибка на тренировочной выборке\n",
    "test_losses = [] # ошибка на тестовой выборке\n",
    "train_metrics = [] # accuracy на тренировочной выборке\n",
    "test_metrics = [] # accuracy на тестовой выборке\n",
    "\n",
    "# Базовый размер возьмем для двухслойной сети с 128 нейронами, и будем равняться на него\n",
    "k_dict = {2:128, 3:67, 5:45, 10:30}\n",
    "\n",
    "for n in [2, 3, 5, 10]:\n",
    "    \n",
    "    k = k_dict[n]\n",
    "    net_size = 64 * 785 + 65 * k + (n - 2) * (k + 1) * k + (k + 1) * 10\n",
    "    n_nums.append(k)\n",
    "    n_pars.append(net_size)\n",
    "    n_layers.append(n)\n",
    "    \n",
    "    model = Sequential()\n",
    "    model.add(Dense(64, input_shape=(28 * 28,), activation='relu'))\n",
    "    for i in range(n-1):\n",
    "        model.add(Dense(k , activation='relu'))\n",
    "    model.add(Dense(10, activation='sigmoid'))\n",
    "    \n",
    "    model.summary()\n",
    "    \n",
    "    # Компиляция модели\n",
    "    model.compile(loss='categorical_crossentropy', optimizer='SGD', metrics=['accuracy'])\n",
    "    \n",
    "    history = model.fit(X_train, y_train,\n",
    "                       epochs=5,\n",
    "                       batch_size=64,\n",
    "                       verbose=1,\n",
    "                       validation_data=(X_test, y_test)\n",
    "                       )\n",
    "    train_acc = history.history['accuracy']\n",
    "    val_acc = history.history['val_accuracy']\n",
    "    \n",
    "    train_loss, train_metric = model.evaluate(X_train, y_train, batch_size=64)\n",
    "    train_losses.append(train_loss)\n",
    "    train_metrics.append(train_metric)\n",
    "    \n",
    "    test_loss, test_metric = model.evaluate(X_test, y_test, batch_size=64)\n",
    "    test_losses.append(test_loss)\n",
    "    test_metrics.append(test_metric)\n",
    "    \n",
    "    \n",
    "results_layers['n_layer'] = n_layers\n",
    "results_layers['n_num'] = n_nums\n",
    "results_layers['n_par'] = n_pars\n",
    "results_layers['train_loss'] = train_losses\n",
    "results_layers['test_loss'] = test_losses\n",
    "results_layers['train_metric'] = train_metrics\n",
    "results_layers['test_metric'] = test_metrics\n",
    "results_layers.sort_values(by='test_metric', ascending=False)   "
   ]
  },
  {
   "cell_type": "code",
   "execution_count": 15,
   "id": "66ea1338-cec8-47d1-a9ca-266f3ba7e949",
   "metadata": {},
   "outputs": [
    {
     "data": {
      "image/png": "[encoded data removed]",
      "text/plain": [
       "<Figure size 1152x360 with 1 Axes>"
      ]
     },
     "metadata": {
      "needs_background": "light"
     },
     "output_type": "display_data"
    },
    {
     "data": {
      "image/png": "[encoded data removed]",
      "text/plain": [
       "<Figure size 1152x360 with 1 Axes>"
      ]
     },
     "metadata": {
      "needs_background": "light"
     },
     "output_type": "display_data"
    }
   ],
   "source": [
    "# Демонстрация полученных результатов\n",
    "# Диаграмма точности в зависимости от обучения\n",
    "\n",
    "plt.figure(figsize=(16, 5))\n",
    "plt.plot(results_layers['n_layer'],results_layers['train_loss'], label='train')\n",
    "plt.plot(results_layers['n_layer'],results_layers['test_loss'], label='test')\n",
    "plt.xlabel('Обучение')\n",
    "plt.ylabel('Ошибка')\n",
    "plt.legend()\n",
    "plt.show()\n",
    "\n",
    "plt.figure(figsize=(16, 5))\n",
    "plt.plot(results_layers['n_layer'],results_layers['train_metric'], label='train')\n",
    "plt.plot(results_layers['n_layer'],results_layers['test_metric'], label='test')\n",
    "plt.xlabel('Число слоев')\n",
    "plt.ylabel('Accuracy')\n",
    "plt.legend()\n",
    "plt.show()"
   ]
  },
  {
   "cell_type": "markdown",
   "id": "3832221d-ddf4-4af6-8ec8-ab5d941bb57b",
   "metadata": {},
   "source": [
    "Лучшее качество получилось на 5 слоях с 45 нейронами.<br>\n",
    "На 2, 3 и 5 слоях качество и ошибка примерно соразмерны, на 10 слоях качество прилично просело. Может быть это связано с тем, что количество нейронов скрытых слоев ниже, чтобы сохранить общее количество тренируемых параметров."
   ]
  },
  {
   "cell_type": "markdown",
   "id": "7b32c774-b8ab-4e07-8936-66da01265efb",
   "metadata": {},
   "source": [
    "### Задание 2. Проверьте работу разных оптимизаторов (SGD, Adam, RMSProp) для одной из моделей п.1. Фиксируйте для тренировочного и тестового набора метрики accuracy."
   ]
  },
  {
   "cell_type": "markdown",
   "id": "e2880b35-0031-4be2-a4ee-3a1d9bd77328",
   "metadata": {},
   "source": [
    "Лучшей оказалась модель с 5 слоями и 45 нейронами.\n",
    "Посмотрим работу разных оптимизаторов (SGD, Adam, RMSProp) для этой модели."
   ]
  },
  {
   "cell_type": "code",
   "execution_count": 33,
   "id": "716cd77c-a897-479d-92c4-22db132dcde8",
   "metadata": {},
   "outputs": [
    {
     "name": "stdout",
     "output_type": "stream",
     "text": [
      "Оптимизатор: SGD\n",
      "Epoch 1/5\n",
      "938/938 [==============================] - 2s 1ms/step - loss: 1.2616 - accuracy: 0.5346 - val_loss: 0.7668 - val_accuracy: 0.7001\n",
      "Epoch 2/5\n",
      "938/938 [==============================] - 1s 1ms/step - loss: 0.6239 - accuracy: 0.7736 - val_loss: 0.6555 - val_accuracy: 0.7659\n",
      "Epoch 3/5\n",
      "938/938 [==============================] - 1s 1ms/step - loss: 0.5264 - accuracy: 0.8134 - val_loss: 0.5518 - val_accuracy: 0.8079\n",
      "Epoch 4/5\n",
      "938/938 [==============================] - 1s 1ms/step - loss: 0.4829 - accuracy: 0.8294 - val_loss: 0.4924 - val_accuracy: 0.8260\n",
      "Epoch 5/5\n",
      "938/938 [==============================] - 1s 1ms/step - loss: 0.4562 - accuracy: 0.8375 - val_loss: 0.5220 - val_accuracy: 0.8105\n",
      "157/157 [==============================] - 0s 916us/step - loss: 0.5220 - accuracy: 0.8105\n",
      "Качество на тесте: 0.5219538807868958, 0.8105000257492065\n",
      "Оптимизатор: RMSprop\n",
      "Epoch 1/5\n",
      "938/938 [==============================] - 2s 2ms/step - loss: 0.6040 - accuracy: 0.7783 - val_loss: 0.6214 - val_accuracy: 0.7807\n",
      "Epoch 2/5\n",
      "938/938 [==============================] - 1s 2ms/step - loss: 0.4112 - accuracy: 0.8496 - val_loss: 0.4672 - val_accuracy: 0.8331\n",
      "Epoch 3/5\n",
      "938/938 [==============================] - 1s 2ms/step - loss: 0.3687 - accuracy: 0.8656 - val_loss: 0.3987 - val_accuracy: 0.8579\n",
      "Epoch 4/5\n",
      "938/938 [==============================] - 2s 2ms/step - loss: 0.3448 - accuracy: 0.8750 - val_loss: 0.4121 - val_accuracy: 0.8505\n",
      "Epoch 5/5\n",
      "938/938 [==============================] - 1s 2ms/step - loss: 0.3293 - accuracy: 0.8797 - val_loss: 0.3997 - val_accuracy: 0.8530\n",
      "157/157 [==============================] - 0s 881us/step - loss: 0.3997 - accuracy: 0.8530\n",
      "Качество на тесте: 0.39966487884521484, 0.8529999852180481\n",
      "Оптимизатор: Adam\n",
      "Epoch 1/5\n",
      "938/938 [==============================] - 2s 2ms/step - loss: 0.5810 - accuracy: 0.7946 - val_loss: 0.4555 - val_accuracy: 0.8390\n",
      "Epoch 2/5\n",
      "938/938 [==============================] - 2s 2ms/step - loss: 0.3992 - accuracy: 0.8564 - val_loss: 0.4921 - val_accuracy: 0.8316\n",
      "Epoch 3/5\n",
      "938/938 [==============================] - 2s 2ms/step - loss: 0.3625 - accuracy: 0.8673 - val_loss: 0.3724 - val_accuracy: 0.8662\n",
      "Epoch 4/5\n",
      "938/938 [==============================] - 2s 2ms/step - loss: 0.3362 - accuracy: 0.8766 - val_loss: 0.3630 - val_accuracy: 0.8679\n",
      "Epoch 5/5\n",
      "938/938 [==============================] - 2s 2ms/step - loss: 0.3212 - accuracy: 0.8805 - val_loss: 0.3661 - val_accuracy: 0.8682\n",
      "157/157 [==============================] - 0s 928us/step - loss: 0.3661 - accuracy: 0.8682\n",
      "Качество на тесте: 0.36607810854911804, 0.8682000041007996\n"
     ]
    },
    {
     "data": {
      "image/png": "[encoded data removed]",
      "text/plain": [
       "<Figure size 1152x504 with 1 Axes>"
      ]
     },
     "metadata": {
      "needs_background": "light"
     },
     "output_type": "display_data"
    },
    {
     "name": "stdout",
     "output_type": "stream",
     "text": [
      "CPU times: user 50.1 s, sys: 4.02 s, total: 54.1 s\n",
      "Wall time: 29.8 s\n"
     ]
    }
   ],
   "source": [
    "%%time\n",
    "\n",
    "# создаем модель model\n",
    "model = Sequential([\n",
    "    Dense(64, activation='relu', input_shape=(28 * 28,)),\n",
    "    Dense(45, activation='relu'),\n",
    "    Dense(45, activation='relu'),\n",
    "    Dense(45, activation='relu'),\n",
    "    Dense(45, activation='relu'),    \n",
    "    Dense(10, activation='sigmoid'),\n",
    "])\n",
    "\n",
    "# сохраняем ее веса (это начальная точка) model.save_weights('model.h5')\n",
    "model.save_weights('model_weights.h5')\n",
    "\n",
    "# будем сохранять модели в словарь\n",
    "models = {}\n",
    "\n",
    "plt.figure(figsize=(16, 7))\n",
    "colors = ['g', 'b', 'r']\n",
    "\n",
    "num_epochs = 5\n",
    "batch_size = 64\n",
    "\n",
    "# вектор для вывода результатов\n",
    "epoch = np.arange(num_epochs+1)\n",
    "\n",
    "# будем изменять оптимизаторы\n",
    "for i, i_optim in enumerate([SGD(),\n",
    "                            RMSprop(),\n",
    "                            Adam()]):\n",
    "    print(f'Оптимизатор: {i_optim.get_config()[\"name\"]}')\n",
    "    \n",
    "    # создаем рабочую модель  model_i, куда будем загружать эти веса (она должна быть идентичной структуры)\n",
    "    model_i = Sequential([\n",
    "        Dense(64, activation='relu', input_shape=(28 * 28,)),\n",
    "        Dense(45, activation='relu'),\n",
    "        Dense(45, activation='relu'),\n",
    "        Dense(45, activation='relu'),\n",
    "        Dense(45, activation='relu'),   \n",
    "        Dense(10, activation='sigmoid'),\n",
    "    ])\n",
    "    \n",
    "    # загружаем веса model_i.load_weights('model.h5')\n",
    "    model_i.load_weights('model_weights.h5')\n",
    "    \n",
    "    # компилируем model_i с одним из оптимизаторов\n",
    "    model_i.compile(\n",
    "        optimizer=i_optim,\n",
    "        loss='categorical_crossentropy',        \n",
    "        metrics=['accuracy'],    \n",
    "    )\n",
    "    \n",
    "    # вычисляем ошибку для modeli без обучения\n",
    "    h0_train = model_i.evaluate(X_train, y_train, verbose=0)\n",
    "    h0_val = model_i.evaluate(X_test, y_test, verbose=0)\n",
    "    \n",
    "    # проводим обучение модели \n",
    "    h = model_i.fit(X_train, y_train,\n",
    "                   epochs=num_epochs,\n",
    "                   batch_size=batch_size,\n",
    "                   validation_data=(X_test, y_test),\n",
    "                   verbose=1)\n",
    "    \n",
    "    # вычисляем ошибку для modeli после обучения\n",
    "    loss, metric = model_i.evaluate(X_test, y_test, batch_size=64)\n",
    "    print(f'Качество на тесте: {loss}, {metric}')\n",
    "    \n",
    "    # записываем обученную модель в словарь\n",
    "    models[i_optim.get_config()['name']] = model_i\n",
    "    \n",
    "    # картинки       \n",
    "    plt.plot(epoch, ([h0_train[0]] + h.history['accuracy']),\n",
    "             '-', c=colors[i],\n",
    "             label=model_i.optimizer.get_config()['name'] + ' train')\n",
    "    plt.plot(epoch, ([h0_val[0]] + h.history['val_accuracy']),\n",
    "             '--', c=colors[i],\n",
    "             label=f'{model_i.optimizer.get_config()[\"name\"]} val {metric:.2f}')\n",
    "    \n",
    "plt.legend()\n",
    "plt.title('нейросети от оптимизатора accuracy')\n",
    "plt.xlabel('epoch')\n",
    "plt.ylabel('accuracy')\n",
    "plt.show()    "
   ]
  },
  {
   "cell_type": "markdown",
   "id": "946fd4a8-e826-49e1-bef6-cfd5bbd591fc",
   "metadata": {},
   "source": [
    "### Задание 3. Сделайте вывод - что помогло вам улучшить качество классификации в нейросети на тестовом наборе?"
   ]
  },
  {
   "cell_type": "markdown",
   "id": "a66ec395-4eee-4ae3-ab99-f4f86221f7f3",
   "metadata": {},
   "source": [
    "Итоговое качество на тестовой выборке получилось 0.86 благодаря подбору оптимального количества скрытых слоев (5) и количества нейронов на них (45), а также выбору оптимизатора (Adam). "
   ]
  },
  {
   "cell_type": "code",
   "execution_count": 34,
   "id": "7e6126a9-9a4b-4a0f-94e5-3c22ace1589d",
   "metadata": {},
   "outputs": [],
   "source": [
    "model_i = models['Adam']"
   ]
  },
  {
   "cell_type": "code",
   "execution_count": 35,
   "id": "c9c65df7-7c6e-418d-bb3a-d1a0d2ffcc77",
   "metadata": {},
   "outputs": [
    {
     "data": {
      "text/plain": [
       "{'name': 'Adam',\n",
       " 'learning_rate': 0.001,\n",
       " 'decay': 0.0,\n",
       " 'beta_1': 0.9,\n",
       " 'beta_2': 0.999,\n",
       " 'epsilon': 1e-07,\n",
       " 'amsgrad': False}"
      ]
     },
     "execution_count": 35,
     "metadata": {},
     "output_type": "execute_result"
    }
   ],
   "source": [
    "model_i.optimizer.get_config()"
   ]
  },
  {
   "cell_type": "code",
   "execution_count": 36,
   "id": "25b5cd16-bdf8-48a6-aaec-06e81836b418",
   "metadata": {},
   "outputs": [
    {
     "name": "stdout",
     "output_type": "stream",
     "text": [
      "1/1 [==============================] - 0s 55ms/step\n"
     ]
    },
    {
     "data": {
      "image/png": "[encoded data removed]",
      "text/plain": [
       "<Figure size 1080x360 with 5 Axes>"
      ]
     },
     "metadata": {
      "needs_background": "light"
     },
     "output_type": "display_data"
    }
   ],
   "source": [
    "N = 5\n",
    "y_pred = model_i.predict(X_test[:N, :])\n",
    "y_pred_class = np.argmax(y_pred, axis=1)\n",
    "plt.figure(figsize=(3 * N, 5))\n",
    "\n",
    "for i in range(N):\n",
    "    plt.subplot(1, N, i+1)\n",
    "    plt.imshow(X_test[i, :].reshape(28, 28))\n",
    "    # plt.xlabel(str(y_pred_class[i]))\n",
    "    plt.xlabel(str(y_test_labels[i]))\n",
    "plt.show()"
   ]
  },
  {
   "cell_type": "code",
   "execution_count": 37,
   "id": "11b00ee2-1080-4162-bfe4-b427d7b2f343",
   "metadata": {},
   "outputs": [
    {
     "data": {
      "text/plain": [
       "array([9, 2, 1, 1, 6])"
      ]
     },
     "execution_count": 37,
     "metadata": {},
     "output_type": "execute_result"
    }
   ],
   "source": [
    "y_pred_class"
   ]
  },
  {
   "cell_type": "markdown",
   "id": "d493ab3c-e9d2-4d2d-8237-74ad002e96c3",
   "metadata": {},
   "source": [
    "### Задание 4. Для одного варианта сети сформируйте матрицу ошибок по классам. Оцените качество модели по каждому классу отдельно (полнота, точность)."
   ]
  },
  {
   "cell_type": "code",
   "execution_count": 38,
   "id": "5d7aaa6a-92f7-4997-a2f7-b76c6af6944f",
   "metadata": {},
   "outputs": [
    {
     "name": "stdout",
     "output_type": "stream",
     "text": [
      "313/313 [==============================] - 0s 741us/step\n"
     ]
    }
   ],
   "source": [
    "y_pred = model_i.predict(X_test)\n",
    "y_pred_class = np.argmax(y_pred, axis=1)"
   ]
  },
  {
   "cell_type": "code",
   "execution_count": 39,
   "id": "437890b8-0a17-45fb-add1-fba608828d61",
   "metadata": {},
   "outputs": [],
   "source": [
    "def plot_confusion_matrix(cm, classes,\n",
    "                          normalize=False,\n",
    "                          title='Confusion matrix',\n",
    "                          cmap=plt.cm.Blues):\n",
    "    \"\"\"\n",
    "    This function prints and plots the confusion matrix.\n",
    "    Normalization can be applied by setting `normalize=True`.\n",
    "    \"\"\"\n",
    "    plt.imshow(cm, interpolation='nearest', cmap=cmap)\n",
    "    plt.title(title)\n",
    "    plt.colorbar()\n",
    "    tick_marks = np.arange(len(classes))\n",
    "    plt.xticks(tick_marks, classes, rotation=45)\n",
    "    plt.yticks(tick_marks, classes)\n",
    "\n",
    "    if normalize:\n",
    "        cm = cm.astype('float') / cm.sum(axis=1)[:, np.newaxis]\n",
    "        print(\"Normalized confusion matrix\")\n",
    "    else:\n",
    "        print('Confusion matrix, without normalization')\n",
    "\n",
    "    #print(cm)\n",
    "\n",
    "    thresh = cm.max() / 2.\n",
    "    for i, j in itertools.product(range(cm.shape[0]), range(cm.shape[1])):\n",
    "        plt.text(j, i, cm[i, j],\n",
    "                 horizontalalignment=\"center\",\n",
    "                 color=\"white\" if cm[i, j] > thresh else \"black\")\n",
    "\n",
    "    plt.tight_layout()\n",
    "    plt.ylabel('True label')\n",
    "    plt.xlabel('Predicted label')"
   ]
  },
  {
   "cell_type": "code",
   "execution_count": 40,
   "id": "9b0690b3-56ae-42e8-80de-158de1324d7d",
   "metadata": {},
   "outputs": [
    {
     "name": "stdout",
     "output_type": "stream",
     "text": [
      "Confusion matrix, without normalization\n"
     ]
    },
    {
     "data": {
      "image/png": "[encoded data removed]",
      "text/plain": [
       "<Figure size 720x576 with 2 Axes>"
      ]
     },
     "metadata": {
      "needs_background": "light"
     },
     "output_type": "display_data"
    }
   ],
   "source": [
    "font = {'size' : 15}\n",
    "\n",
    "plt.rc('font', **font)\n",
    "\n",
    "cnf_matrix = confusion_matrix(y_test_labels, y_pred_class)\n",
    "plt.figure(figsize=(10, 8))\n",
    "plot_confusion_matrix(cnf_matrix, classes=['0', '1', '2', '3', '4', '5', '6', '7', '8', '9'],\n",
    "                      title='Confusion matrix', normalize=False)\n",
    "plt.show()"
   ]
  },
  {
   "cell_type": "code",
   "execution_count": 41,
   "id": "ef085262-a627-4188-8163-2634b1074c42",
   "metadata": {},
   "outputs": [],
   "source": [
    "def get_precision_and_recall_from_confusion_matrix(label, cnf_matrix):\n",
    "    str_sum = 0\n",
    "    col_sum = 0\n",
    "    for i in range(len(cnf_matrix)):\n",
    "        str_sum += cnf_matrix[label][i]\n",
    "        col_sum += cnf_matrix[i][label]\n",
    "        \n",
    "    return cnf_matrix[label][label] / str_sum, cnf_matrix[label][label] / col_sum"
   ]
  },
  {
   "cell_type": "code",
   "execution_count": 42,
   "id": "430af749-c7a5-419b-9d75-de27edcbffae",
   "metadata": {},
   "outputs": [],
   "source": [
    "pr_rc_result = pd.DataFrame()\n",
    "precisions = []\n",
    "recalls = []\n",
    "labels = [0, 1, 2, 3, 4, 5, 6, 7, 8, 9]\n",
    "for l in labels:\n",
    "    p_r = get_precision_and_recall_from_confusion_matrix(l, cnf_matrix)\n",
    "    precisions.append(p_r[0])\n",
    "    recalls.append(p_r[1])\n",
    "pr_rc_result['label'] = labels\n",
    "pr_rc_result['precision'] = precisions\n",
    "pr_rc_result['recall'] = recalls"
   ]
  },
  {
   "cell_type": "code",
   "execution_count": 43,
   "id": "96c4fce0-66b3-4991-80d1-e99dfd3300af",
   "metadata": {},
   "outputs": [
    {
     "data": {
      "text/html": [
       "<div>\n",
       "<style scoped>\n",
       "    .dataframe tbody tr th:only-of-type {\n",
       "        vertical-align: middle;\n",
       "    }\n",
       "\n",
       "    .dataframe tbody tr th {\n",
       "        vertical-align: top;\n",
       "    }\n",
       "\n",
       "    .dataframe thead th {\n",
       "        text-align: right;\n",
       "    }\n",
       "</style>\n",
       "<table border=\"1\" class=\"dataframe\">\n",
       "  <thead>\n",
       "    <tr style=\"text-align: right;\">\n",
       "      <th></th>\n",
       "      <th>label</th>\n",
       "      <th>precision</th>\n",
       "      <th>recall</th>\n",
       "    </tr>\n",
       "  </thead>\n",
       "  <tbody>\n",
       "    <tr>\n",
       "      <th>9</th>\n",
       "      <td>9</td>\n",
       "      <td>0.960</td>\n",
       "      <td>0.929332</td>\n",
       "    </tr>\n",
       "    <tr>\n",
       "      <th>8</th>\n",
       "      <td>8</td>\n",
       "      <td>0.955</td>\n",
       "      <td>0.980493</td>\n",
       "    </tr>\n",
       "    <tr>\n",
       "      <th>7</th>\n",
       "      <td>7</td>\n",
       "      <td>0.953</td>\n",
       "      <td>0.917228</td>\n",
       "    </tr>\n",
       "    <tr>\n",
       "      <th>1</th>\n",
       "      <td>1</td>\n",
       "      <td>0.946</td>\n",
       "      <td>0.996839</td>\n",
       "    </tr>\n",
       "    <tr>\n",
       "      <th>5</th>\n",
       "      <td>5</td>\n",
       "      <td>0.919</td>\n",
       "      <td>0.981838</td>\n",
       "    </tr>\n",
       "    <tr>\n",
       "      <th>3</th>\n",
       "      <td>3</td>\n",
       "      <td>0.907</td>\n",
       "      <td>0.841373</td>\n",
       "    </tr>\n",
       "    <tr>\n",
       "      <th>4</th>\n",
       "      <td>4</td>\n",
       "      <td>0.811</td>\n",
       "      <td>0.771646</td>\n",
       "    </tr>\n",
       "    <tr>\n",
       "      <th>2</th>\n",
       "      <td>2</td>\n",
       "      <td>0.799</td>\n",
       "      <td>0.760228</td>\n",
       "    </tr>\n",
       "    <tr>\n",
       "      <th>0</th>\n",
       "      <td>0</td>\n",
       "      <td>0.765</td>\n",
       "      <td>0.856663</td>\n",
       "    </tr>\n",
       "    <tr>\n",
       "      <th>6</th>\n",
       "      <td>6</td>\n",
       "      <td>0.667</td>\n",
       "      <td>0.669679</td>\n",
       "    </tr>\n",
       "  </tbody>\n",
       "</table>\n",
       "</div>"
      ],
      "text/plain": [
       "   label  precision    recall\n",
       "9      9      0.960  0.929332\n",
       "8      8      0.955  0.980493\n",
       "7      7      0.953  0.917228\n",
       "1      1      0.946  0.996839\n",
       "5      5      0.919  0.981838\n",
       "3      3      0.907  0.841373\n",
       "4      4      0.811  0.771646\n",
       "2      2      0.799  0.760228\n",
       "0      0      0.765  0.856663\n",
       "6      6      0.667  0.669679"
      ]
     },
     "execution_count": 43,
     "metadata": {},
     "output_type": "execute_result"
    }
   ],
   "source": [
    "pr_rc_result.sort_values(by='precision', ascending=False)"
   ]
  },
  {
   "cell_type": "code",
   "execution_count": 44,
   "id": "c2c903ef-1d3f-457a-88ff-57ed6a18ac19",
   "metadata": {},
   "outputs": [
    {
     "data": {
      "text/html": [
       "<div>\n",
       "<style scoped>\n",
       "    .dataframe tbody tr th:only-of-type {\n",
       "        vertical-align: middle;\n",
       "    }\n",
       "\n",
       "    .dataframe tbody tr th {\n",
       "        vertical-align: top;\n",
       "    }\n",
       "\n",
       "    .dataframe thead th {\n",
       "        text-align: right;\n",
       "    }\n",
       "</style>\n",
       "<table border=\"1\" class=\"dataframe\">\n",
       "  <thead>\n",
       "    <tr style=\"text-align: right;\">\n",
       "      <th></th>\n",
       "      <th>label</th>\n",
       "      <th>precision</th>\n",
       "      <th>recall</th>\n",
       "    </tr>\n",
       "  </thead>\n",
       "  <tbody>\n",
       "    <tr>\n",
       "      <th>1</th>\n",
       "      <td>1</td>\n",
       "      <td>0.946</td>\n",
       "      <td>0.996839</td>\n",
       "    </tr>\n",
       "    <tr>\n",
       "      <th>5</th>\n",
       "      <td>5</td>\n",
       "      <td>0.919</td>\n",
       "      <td>0.981838</td>\n",
       "    </tr>\n",
       "    <tr>\n",
       "      <th>8</th>\n",
       "      <td>8</td>\n",
       "      <td>0.955</td>\n",
       "      <td>0.980493</td>\n",
       "    </tr>\n",
       "    <tr>\n",
       "      <th>9</th>\n",
       "      <td>9</td>\n",
       "      <td>0.960</td>\n",
       "      <td>0.929332</td>\n",
       "    </tr>\n",
       "    <tr>\n",
       "      <th>7</th>\n",
       "      <td>7</td>\n",
       "      <td>0.953</td>\n",
       "      <td>0.917228</td>\n",
       "    </tr>\n",
       "    <tr>\n",
       "      <th>0</th>\n",
       "      <td>0</td>\n",
       "      <td>0.765</td>\n",
       "      <td>0.856663</td>\n",
       "    </tr>\n",
       "    <tr>\n",
       "      <th>3</th>\n",
       "      <td>3</td>\n",
       "      <td>0.907</td>\n",
       "      <td>0.841373</td>\n",
       "    </tr>\n",
       "    <tr>\n",
       "      <th>4</th>\n",
       "      <td>4</td>\n",
       "      <td>0.811</td>\n",
       "      <td>0.771646</td>\n",
       "    </tr>\n",
       "    <tr>\n",
       "      <th>2</th>\n",
       "      <td>2</td>\n",
       "      <td>0.799</td>\n",
       "      <td>0.760228</td>\n",
       "    </tr>\n",
       "    <tr>\n",
       "      <th>6</th>\n",
       "      <td>6</td>\n",
       "      <td>0.667</td>\n",
       "      <td>0.669679</td>\n",
       "    </tr>\n",
       "  </tbody>\n",
       "</table>\n",
       "</div>"
      ],
      "text/plain": [
       "   label  precision    recall\n",
       "1      1      0.946  0.996839\n",
       "5      5      0.919  0.981838\n",
       "8      8      0.955  0.980493\n",
       "9      9      0.960  0.929332\n",
       "7      7      0.953  0.917228\n",
       "0      0      0.765  0.856663\n",
       "3      3      0.907  0.841373\n",
       "4      4      0.811  0.771646\n",
       "2      2      0.799  0.760228\n",
       "6      6      0.667  0.669679"
      ]
     },
     "execution_count": 44,
     "metadata": {},
     "output_type": "execute_result"
    }
   ],
   "source": [
    "pr_rc_result.sort_values(by='recall', ascending=False)"
   ]
  },
  {
   "cell_type": "code",
   "execution_count": 28,
   "id": "e5ebb001-2bc7-45ee-bb2a-80e1eb6c56f5",
   "metadata": {},
   "outputs": [],
   "source": [
    "d = {0: 'футболка/клубка',\n",
    "     1: 'Брюки',\n",
    "     2: 'Пуловер',\n",
    "     3: 'Платье',\n",
    "     4: 'Пальто',\n",
    "     5: 'Сандал',\n",
    "     6: 'Рубашка',\n",
    "     7: 'Кроссовок',\n",
    "     8: 'Сумка',\n",
    "     9: 'Ботинок'}"
   ]
  },
  {
   "cell_type": "markdown",
   "id": "9ebfb2e5-dd75-4277-af63-1f8516f1563c",
   "metadata": {},
   "source": [
    "Получилось, что точнее всего наша модель предсказывает ботинки, сумки и кроссовки. Интересно, что кроссовки и ботинки наверху списков, то есть модель их не путает. <br>\n",
    "Хуже всего модель предсказывает футболки, пуловеры, пальто и рубашки. Их, видимо, проще спутать."
   ]
  },
  {
   "cell_type": "markdown",
   "id": "4e1ea6cf-9a77-419f-9f3e-6f80ddb9c470",
   "metadata": {},
   "source": [
    "Посмотрим, ради интереса, на все представленные категории."
   ]
  },
  {
   "cell_type": "code",
   "execution_count": 45,
   "id": "ba2d4add-22da-4752-aced-0dc5d1683039",
   "metadata": {},
   "outputs": [],
   "source": [
    "ind = []\n",
    "for i in range(10):\n",
    "    ind.append(np.where(y_test_labels == i)[0][0])"
   ]
  },
  {
   "cell_type": "code",
   "execution_count": 46,
   "id": "bbbe9824-e129-4b29-8ba4-a4b13f546224",
   "metadata": {},
   "outputs": [
    {
     "data": {
      "image/png": "[encoded data removed]",
      "text/plain": [
       "<Figure size 2160x360 with 10 Axes>"
      ]
     },
     "metadata": {
      "needs_background": "light"
     },
     "output_type": "display_data"
    }
   ],
   "source": [
    "plt.figure(figsize=(3 * 10, 5))\n",
    "k = 0\n",
    "for i in ind:\n",
    "    plt.subplot(1, 10, k+1)\n",
    "    k+=1\n",
    "    plt.imshow(X_test[i,:].reshape(28, 28))\n",
    "    plt.xlabel('true:' + str(d[y_test_labels[i]]) + '\\n pred:' + str (d[y_pred_class[i]]))\n",
    "    \n",
    "plt.show()"
   ]
  },
  {
   "cell_type": "code",
   "execution_count": null,
   "id": "be01af9d-1899-4f57-94f4-8999d76e367b",
   "metadata": {},
   "outputs": [],
   "source": []
  }
 ],
 "metadata": {
  "kernelspec": {
   "display_name": "Python 3 (ipykernel)",
   "language": "python",
   "name": "python3"
  },
  "language_info": {
   "codemirror_mode": {
    "name": "ipython",
    "version": 3
   },
   "file_extension": ".py",
   "mimetype": "text/x-python",
   "name": "python",
   "nbconvert_exporter": "python",
   "pygments_lexer": "ipython3",
   "version": "3.9.12"
  }
 },
 "nbformat": 4,
 "nbformat_minor": 5
}
